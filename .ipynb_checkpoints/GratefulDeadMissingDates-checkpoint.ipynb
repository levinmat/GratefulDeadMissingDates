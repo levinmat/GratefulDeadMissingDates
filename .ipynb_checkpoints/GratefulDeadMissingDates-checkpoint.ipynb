{
 "cells": [
  {
   "cell_type": "markdown",
   "metadata": {},
   "source": [
    "## Grateful Dead Missing Dates\n",
    "\n",
    "_Which calendar dates never had a Grateful Dead show in any year?_\n",
    "\n",
    "Inspired by the Sirius XM Grateful Dead Channel's _#TDIGDH_ (This Day in Grateful Dead History) and powered by the [setlist.fm API](https://api.setlist.fm/docs/1.0/index.html).\n",
    "\n",
    "_The Dead played a lot of shows, so many that for any date on a calendar, there was probably a show on that day in at least one year over the course of their career. Are there any dates where they never played a show in any year? Let's find out..._"
   ]
  },
  {
   "cell_type": "code",
   "execution_count": 65,
   "metadata": {},
   "outputs": [],
   "source": [
    "import requests # To query the API\n",
    "from os import environ # To access hidden API key"
   ]
  },
  {
   "cell_type": "code",
   "execution_count": 66,
   "metadata": {},
   "outputs": [],
   "source": [
    "url = 'https://api.setlist.fm/rest/1.0/search/setlists' # Setlist.fm Search Endpont URL"
   ]
  },
  {
   "cell_type": "code",
   "execution_count": 67,
   "metadata": {},
   "outputs": [],
   "source": [
    "apiKey = environ['SETLIST_FM_API_KEY'] # Super secret API key"
   ]
  },
  {
   "cell_type": "code",
   "execution_count": 68,
   "metadata": {},
   "outputs": [],
   "source": [
    "headers = {'Accept':'application/json', 'x-api-key': apiKey}\n",
    "params = {'artistName':'Grateful Dead'}"
   ]
  },
  {
   "cell_type": "code",
   "execution_count": 69,
   "metadata": {},
   "outputs": [
    {
     "name": "stdout",
     "output_type": "stream",
     "text": [
      "Total of 2330 setlists, which is 117 pages of results.\n"
     ]
    }
   ],
   "source": [
    "# The initial request - Used only to find the number of pages of results\n",
    "res = requests.get(url, headers=headers, params=params).json()\n",
    "numSetlists = res['total']\n",
    "# Each page has 20 results, round up to include the final setlists\n",
    "numPages = int((numSetlists / 20) + .5)\n",
    "print('Total of %d setlists, which is %d pages of results.' % (numSetlists, numPages))"
   ]
  },
  {
   "cell_type": "code",
   "execution_count": 60,
   "metadata": {},
   "outputs": [],
   "source": [
    "# Query the API (one page at a time) to get all the setlist dates\n",
    "setlistDates = set()\n",
    "\n",
    "for pageIndex in range(numPages):\n",
    "    params['p'] = pageIndex + 1\n",
    "    response = requests.get(url, headers=headers, params=params).json()\n",
    "    for setlist in response['setlist']: # Each setlist in this page\n",
    "        day, month, _ = setlist['eventDate'].split('-')\n",
    "        setlistDates.add('%s/%s' % (month, day))"
   ]
  },
  {
   "cell_type": "code",
   "execution_count": 61,
   "metadata": {
    "scrolled": true
   },
   "outputs": [
    {
     "name": "stdout",
     "output_type": "stream",
     "text": [
      "Total of 5 dates with no concerts in any year, including Leap Day (Feb 29th).\n"
     ]
    }
   ],
   "source": [
    "# The number of missing days (including leap day)\n",
    "print('Total of', 366 - len(setlistDates), 'dates with no concerts in any year, including Leap Day (Feb 29th).')"
   ]
  },
  {
   "cell_type": "code",
   "execution_count": 64,
   "metadata": {
    "scrolled": false
   },
   "outputs": [
    {
     "name": "stdout",
     "output_type": "stream",
     "text": [
      "The dates with no concerts in any year are:\n",
      "- 01/09\n",
      "- 01/19\n",
      "- 02/29\n",
      "- 08/09\n",
      "- 12/25\n"
     ]
    }
   ],
   "source": [
    "# Finally, for each date in the calendar year, print the MM/DD if there was never a concert on that day\n",
    "print('The dates with no concerts in any year are:')\n",
    "\n",
    "daysInEachMonth = [31,29,31,30,31,30,31,31,30,31,30,31]\n",
    "for monthIndex, numDays in enumerate(daysInEachMonth):\n",
    "    for dayIndex in range(numDays):\n",
    "        key = '%02d/%02d' % (monthIndex + 1, dayIndex + 1)\n",
    "        if key not in setlistDates: print('-', key)"
   ]
  },
  {
   "cell_type": "markdown",
   "metadata": {},
   "source": [
    "### Leap Day and Christmas Day make sense...\n",
    "\n",
    "### But eerily, August 9th also had no concerts in any year, which is the exact day that Jerry Garcia passed in '95...\n",
    "\n",
    "_Future Work: Also use Archive.org API to supplement Setlist.FM data?_"
   ]
  }
 ],
 "metadata": {
  "kernelspec": {
   "display_name": "Python 3",
   "language": "python",
   "name": "python3"
  },
  "language_info": {
   "codemirror_mode": {
    "name": "ipython",
    "version": 3
   },
   "file_extension": ".py",
   "mimetype": "text/x-python",
   "name": "python",
   "nbconvert_exporter": "python",
   "pygments_lexer": "ipython3",
   "version": "3.6.1"
  }
 },
 "nbformat": 4,
 "nbformat_minor": 2
}
