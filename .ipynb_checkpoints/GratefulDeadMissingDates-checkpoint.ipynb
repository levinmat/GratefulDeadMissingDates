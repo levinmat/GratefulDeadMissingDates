{
 "cells": [
  {
   "cell_type": "markdown",
   "metadata": {},
   "source": [
    "## Grateful Dead Missing Dates\n",
    "\n",
    "_Which calendar dates never had a Grateful Dead show in any year?_\n",
    "\n",
    "Inspired by the Sirius XM Grateful Dead Channel's _#TDIGDH_ (This Day in Grateful Dead History) and powered by the [setlist.fm API](https://api.setlist.fm/docs/1.0/index.html)."
   ]
  },
  {
   "cell_type": "code",
   "execution_count": 1,
   "metadata": {},
   "outputs": [],
   "source": [
    "import requests\n",
    "from os import environ"
   ]
  },
  {
   "cell_type": "code",
   "execution_count": 2,
   "metadata": {},
   "outputs": [],
   "source": [
    "url = 'https://api.setlist.fm/rest/1.0/search/setlists' # Setlist.fm Search Endpont URL"
   ]
  },
  {
   "cell_type": "code",
   "execution_count": 3,
   "metadata": {},
   "outputs": [],
   "source": [
    "apiKey = environ['SETLIST_FM_API_KEY'] # Super secret API key"
   ]
  },
  {
   "cell_type": "code",
   "execution_count": 4,
   "metadata": {},
   "outputs": [],
   "source": [
    "headers = {'Accept':'application/json', 'x-api-key': apiKey}\n",
    "params = {'artistName':'Grateful Dead'}"
   ]
  },
  {
   "cell_type": "code",
   "execution_count": 5,
   "metadata": {},
   "outputs": [
    {
     "name": "stdout",
     "output_type": "stream",
     "text": [
      "Total of 2330 setlists.\n"
     ]
    }
   ],
   "source": [
    "# The initial request - Used only to get the total number of results, used in the next step\n",
    "res = requests.get(url, headers=headers, params=params).json()\n",
    "numSetlists = res['total']\n",
    "print('Total of %d setlists.' % numSetlists)"
   ]
  },
  {
   "cell_type": "code",
   "execution_count": 6,
   "metadata": {},
   "outputs": [],
   "source": [
    "# Query the API to get all the setlist dates, one page of 20 at a time...\n",
    "page = 1\n",
    "\n",
    "# Populate the set of 'MM/DD's that have at least 1 setlist (a concert in some year) while doing so\n",
    "datesWithSetlist = set()\n",
    "\n",
    "while page * 20 < numSetlists: # Each page of results\n",
    "    params['p'] = page\n",
    "    res = requests.get(url, headers=headers, params=params).json()\n",
    "    for setlist in res['setlist']: # Each setlist in this page\n",
    "        dd, mm, _ = setlist['eventDate'].split('-')\n",
    "        datesWithSetlist.add('%s/%s' % (mm, dd))\n",
    "    page += 1"
   ]
  },
  {
   "cell_type": "code",
   "execution_count": 7,
   "metadata": {},
   "outputs": [
    {
     "name": "stdout",
     "output_type": "stream",
     "text": [
      "5 dates with no concerts in any year.\n"
     ]
    }
   ],
   "source": [
    "# The number of missing days (including leap day)\n",
    "print(366 - len(datesWithSetlist), 'dates with no concerts in any year.')"
   ]
  },
  {
   "cell_type": "code",
   "execution_count": 8,
   "metadata": {},
   "outputs": [
    {
     "name": "stdout",
     "output_type": "stream",
     "text": [
      "01/09\n",
      "01/19\n",
      "02/29\n",
      "08/09\n",
      "12/25\n"
     ]
    }
   ],
   "source": [
    "# Finally, for each day in each month, print the MM-DD if no concert happened that day in any year\n",
    "daysInEachMonth = [31,29,31,30,31,30,31,31,30,31,30,31]\n",
    "for monthIndex, numDays in enumerate(daysInEachMonth):\n",
    "    for dayIndex in range(numDays):\n",
    "        key = '%02d/%02d' % (monthIndex + 1, dayIndex + 1)\n",
    "        if key not in datesWithSetlist: print(key)"
   ]
  },
  {
   "cell_type": "markdown",
   "metadata": {},
   "source": [
    "#### Leap Day and Christmas Day were expected...\n",
    "\n",
    "#### But eerily, August 9th is also present, which is the day Jerry passed in '95...\n",
    "\n",
    "_Future Work: Also use Archive.org API to supplement Setlist.FM data?_"
   ]
  }
 ],
 "metadata": {
  "kernelspec": {
   "display_name": "Python 3",
   "language": "python",
   "name": "python3"
  },
  "language_info": {
   "codemirror_mode": {
    "name": "ipython",
    "version": 3
   },
   "file_extension": ".py",
   "mimetype": "text/x-python",
   "name": "python",
   "nbconvert_exporter": "python",
   "pygments_lexer": "ipython3",
   "version": "3.6.1"
  }
 },
 "nbformat": 4,
 "nbformat_minor": 2
}
